{
 "cells": [
  {
   "cell_type": "markdown",
   "metadata": {},
   "source": [
    "# Model Building\n",
    "\n",
    "This is a continuation from the `Feature Engineering` notebook. In that exploration, we prepared a dataset for modelling by clearing out NaNs, binning continuous numeric features, and encoding categorical features. \n",
    "\n",
    "Our dataset consists of roughly 50k offenders and 750k offenses from the Correctional Service of Canada. According to reporting by Tom Cardoso of the Globe and Mail, reintegration potential scores are one of the most important factors in determining parole and early release for offenders. Reintegration potential is composed of a few component reports, but has a large qualitative and subjective component. According to Cardoso, the lack of cultural nuance in putting together these evaluations has led to racial bias in the corrections system. \n",
    "\n",
    "We will look at whether we can predict reintegration potential scores for offenders, and whether there's a racial component in determining scores. We will also look at any other features that are predictive of reintegration potential.\n",
    "\n",
    "Our features and target are as follows:\n",
    "\n",
    "|Features|Target|\n",
    "|:-----|:-------|\n",
    "|INSTITUTIONAL SECURITY LEVEL, OFFENDER SECURITY LEVEL, DYNAMIC/NEED, STATIC/RISK, MOTIVATION, OFFENCE, RACE, AGE, SENTENCE LENGTH, CUSTODY, SUPERVISION|REINTEGRATION POTENTIAL|\n",
    "\n",
    "Let's import relevant packages for our model building, read in our modelling data, and have a look at its head. "
   ]
  },
  {
   "cell_type": "code",
   "execution_count": 1,
   "metadata": {},
   "outputs": [],
   "source": [
    "#Import packages\n",
    "import pandas as pd\n",
    "import numpy as np\n",
    "import matplotlib.pyplot as plt\n",
    "%matplotlib inline\n",
    "\n",
    "from sklearn.linear_model import LogisticRegression\n",
    "from sklearn.neighbors import KNeighborsClassifier\n",
    "from sklearn.ensemble import RandomForestClassifier\n",
    "from sklearn.svm import LinearSVC\n",
    "from xgboost import XGBClassifier\n",
    "\n",
    "from sklearn.preprocessing import StandardScaler\n",
    "from sklearn.base import clone\n",
    "from sklearn.model_selection import train_test_split, GridSearchCV, RandomizedSearchCV, validation_curve\n",
    "from sklearn.metrics import accuracy_score, roc_curve, roc_auc_score, f1_score, auc, confusion_matrix, classification_report"
   ]
  },
  {
   "cell_type": "code",
   "execution_count": 2,
   "metadata": {},
   "outputs": [
    {
     "data": {
      "text/html": [
       "<div>\n",
       "<style scoped>\n",
       "    .dataframe tbody tr th:only-of-type {\n",
       "        vertical-align: middle;\n",
       "    }\n",
       "\n",
       "    .dataframe tbody tr th {\n",
       "        vertical-align: top;\n",
       "    }\n",
       "\n",
       "    .dataframe thead th {\n",
       "        text-align: right;\n",
       "    }\n",
       "</style>\n",
       "<table border=\"1\" class=\"dataframe\">\n",
       "  <thead>\n",
       "    <tr style=\"text-align: right;\">\n",
       "      <th></th>\n",
       "      <th>INSTITUTIONAL SECURITY LEVEL</th>\n",
       "      <th>OFFENDER SECURITY LEVEL</th>\n",
       "      <th>DYNAMIC/NEED</th>\n",
       "      <th>STATIC/RISK</th>\n",
       "      <th>REINTEGRATION POTENTIAL</th>\n",
       "      <th>MOTIVATION</th>\n",
       "      <th>offence_AGGRAVATED ASSAULT</th>\n",
       "      <th>offence_ARMED ROBBERY</th>\n",
       "      <th>offence_ARSON - DAMAGE TO PROPERTY</th>\n",
       "      <th>offence_ASSAULT - THREATS OF VIOLENCE</th>\n",
       "      <th>...</th>\n",
       "      <th>SENLENGTH_40-60Q</th>\n",
       "      <th>SENLENGTH_60-80Q</th>\n",
       "      <th>SENLENGTH_80-100Q</th>\n",
       "      <th>CUSTODY_Community</th>\n",
       "      <th>CUSTODY_In Custody</th>\n",
       "      <th>SUPERVISION_DAY PAROLE</th>\n",
       "      <th>SUPERVISION_FULL PAROLE</th>\n",
       "      <th>SUPERVISION_In Custody</th>\n",
       "      <th>SUPERVISION_LONG TERM SUPER</th>\n",
       "      <th>SUPERVISION_STAT RELEASE</th>\n",
       "    </tr>\n",
       "  </thead>\n",
       "  <tbody>\n",
       "    <tr>\n",
       "      <th>0</th>\n",
       "      <td>4</td>\n",
       "      <td>4</td>\n",
       "      <td>2</td>\n",
       "      <td>2</td>\n",
       "      <td>2</td>\n",
       "      <td>1</td>\n",
       "      <td>0</td>\n",
       "      <td>0</td>\n",
       "      <td>0</td>\n",
       "      <td>0</td>\n",
       "      <td>...</td>\n",
       "      <td>0</td>\n",
       "      <td>0</td>\n",
       "      <td>0</td>\n",
       "      <td>0</td>\n",
       "      <td>1</td>\n",
       "      <td>0</td>\n",
       "      <td>0</td>\n",
       "      <td>1</td>\n",
       "      <td>0</td>\n",
       "      <td>0</td>\n",
       "    </tr>\n",
       "    <tr>\n",
       "      <th>1</th>\n",
       "      <td>3</td>\n",
       "      <td>4</td>\n",
       "      <td>2</td>\n",
       "      <td>2</td>\n",
       "      <td>2</td>\n",
       "      <td>1</td>\n",
       "      <td>0</td>\n",
       "      <td>0</td>\n",
       "      <td>0</td>\n",
       "      <td>0</td>\n",
       "      <td>...</td>\n",
       "      <td>0</td>\n",
       "      <td>0</td>\n",
       "      <td>0</td>\n",
       "      <td>0</td>\n",
       "      <td>1</td>\n",
       "      <td>0</td>\n",
       "      <td>0</td>\n",
       "      <td>1</td>\n",
       "      <td>0</td>\n",
       "      <td>0</td>\n",
       "    </tr>\n",
       "    <tr>\n",
       "      <th>2</th>\n",
       "      <td>3</td>\n",
       "      <td>4</td>\n",
       "      <td>2</td>\n",
       "      <td>2</td>\n",
       "      <td>2</td>\n",
       "      <td>1</td>\n",
       "      <td>0</td>\n",
       "      <td>0</td>\n",
       "      <td>0</td>\n",
       "      <td>0</td>\n",
       "      <td>...</td>\n",
       "      <td>0</td>\n",
       "      <td>0</td>\n",
       "      <td>0</td>\n",
       "      <td>0</td>\n",
       "      <td>1</td>\n",
       "      <td>0</td>\n",
       "      <td>0</td>\n",
       "      <td>1</td>\n",
       "      <td>0</td>\n",
       "      <td>0</td>\n",
       "    </tr>\n",
       "    <tr>\n",
       "      <th>3</th>\n",
       "      <td>3</td>\n",
       "      <td>4</td>\n",
       "      <td>2</td>\n",
       "      <td>2</td>\n",
       "      <td>2</td>\n",
       "      <td>1</td>\n",
       "      <td>0</td>\n",
       "      <td>0</td>\n",
       "      <td>0</td>\n",
       "      <td>0</td>\n",
       "      <td>...</td>\n",
       "      <td>0</td>\n",
       "      <td>0</td>\n",
       "      <td>0</td>\n",
       "      <td>0</td>\n",
       "      <td>1</td>\n",
       "      <td>0</td>\n",
       "      <td>0</td>\n",
       "      <td>1</td>\n",
       "      <td>0</td>\n",
       "      <td>0</td>\n",
       "    </tr>\n",
       "    <tr>\n",
       "      <th>4</th>\n",
       "      <td>2</td>\n",
       "      <td>2</td>\n",
       "      <td>2</td>\n",
       "      <td>2</td>\n",
       "      <td>2</td>\n",
       "      <td>1</td>\n",
       "      <td>0</td>\n",
       "      <td>0</td>\n",
       "      <td>0</td>\n",
       "      <td>0</td>\n",
       "      <td>...</td>\n",
       "      <td>0</td>\n",
       "      <td>0</td>\n",
       "      <td>0</td>\n",
       "      <td>0</td>\n",
       "      <td>1</td>\n",
       "      <td>0</td>\n",
       "      <td>0</td>\n",
       "      <td>1</td>\n",
       "      <td>0</td>\n",
       "      <td>0</td>\n",
       "    </tr>\n",
       "    <tr>\n",
       "      <th>5</th>\n",
       "      <td>2</td>\n",
       "      <td>2</td>\n",
       "      <td>2</td>\n",
       "      <td>2</td>\n",
       "      <td>2</td>\n",
       "      <td>1</td>\n",
       "      <td>0</td>\n",
       "      <td>0</td>\n",
       "      <td>0</td>\n",
       "      <td>0</td>\n",
       "      <td>...</td>\n",
       "      <td>0</td>\n",
       "      <td>0</td>\n",
       "      <td>0</td>\n",
       "      <td>0</td>\n",
       "      <td>1</td>\n",
       "      <td>0</td>\n",
       "      <td>0</td>\n",
       "      <td>1</td>\n",
       "      <td>0</td>\n",
       "      <td>0</td>\n",
       "    </tr>\n",
       "    <tr>\n",
       "      <th>6</th>\n",
       "      <td>1</td>\n",
       "      <td>1</td>\n",
       "      <td>1</td>\n",
       "      <td>0</td>\n",
       "      <td>0</td>\n",
       "      <td>0</td>\n",
       "      <td>0</td>\n",
       "      <td>0</td>\n",
       "      <td>0</td>\n",
       "      <td>0</td>\n",
       "      <td>...</td>\n",
       "      <td>0</td>\n",
       "      <td>0</td>\n",
       "      <td>0</td>\n",
       "      <td>0</td>\n",
       "      <td>1</td>\n",
       "      <td>0</td>\n",
       "      <td>0</td>\n",
       "      <td>1</td>\n",
       "      <td>0</td>\n",
       "      <td>0</td>\n",
       "    </tr>\n",
       "    <tr>\n",
       "      <th>7</th>\n",
       "      <td>0</td>\n",
       "      <td>1</td>\n",
       "      <td>1</td>\n",
       "      <td>0</td>\n",
       "      <td>0</td>\n",
       "      <td>0</td>\n",
       "      <td>0</td>\n",
       "      <td>0</td>\n",
       "      <td>0</td>\n",
       "      <td>0</td>\n",
       "      <td>...</td>\n",
       "      <td>0</td>\n",
       "      <td>0</td>\n",
       "      <td>0</td>\n",
       "      <td>1</td>\n",
       "      <td>0</td>\n",
       "      <td>1</td>\n",
       "      <td>0</td>\n",
       "      <td>0</td>\n",
       "      <td>0</td>\n",
       "      <td>0</td>\n",
       "    </tr>\n",
       "    <tr>\n",
       "      <th>8</th>\n",
       "      <td>0</td>\n",
       "      <td>1</td>\n",
       "      <td>1</td>\n",
       "      <td>0</td>\n",
       "      <td>0</td>\n",
       "      <td>0</td>\n",
       "      <td>0</td>\n",
       "      <td>0</td>\n",
       "      <td>0</td>\n",
       "      <td>0</td>\n",
       "      <td>...</td>\n",
       "      <td>0</td>\n",
       "      <td>0</td>\n",
       "      <td>0</td>\n",
       "      <td>1</td>\n",
       "      <td>0</td>\n",
       "      <td>0</td>\n",
       "      <td>0</td>\n",
       "      <td>0</td>\n",
       "      <td>0</td>\n",
       "      <td>1</td>\n",
       "    </tr>\n",
       "    <tr>\n",
       "      <th>9</th>\n",
       "      <td>2</td>\n",
       "      <td>2</td>\n",
       "      <td>2</td>\n",
       "      <td>2</td>\n",
       "      <td>2</td>\n",
       "      <td>1</td>\n",
       "      <td>0</td>\n",
       "      <td>0</td>\n",
       "      <td>0</td>\n",
       "      <td>0</td>\n",
       "      <td>...</td>\n",
       "      <td>0</td>\n",
       "      <td>0</td>\n",
       "      <td>0</td>\n",
       "      <td>0</td>\n",
       "      <td>1</td>\n",
       "      <td>0</td>\n",
       "      <td>0</td>\n",
       "      <td>1</td>\n",
       "      <td>0</td>\n",
       "      <td>0</td>\n",
       "    </tr>\n",
       "  </tbody>\n",
       "</table>\n",
       "<p>10 rows × 128 columns</p>\n",
       "</div>"
      ],
      "text/plain": [
       "   INSTITUTIONAL SECURITY LEVEL  OFFENDER SECURITY LEVEL  DYNAMIC/NEED  \\\n",
       "0                             4                        4             2   \n",
       "1                             3                        4             2   \n",
       "2                             3                        4             2   \n",
       "3                             3                        4             2   \n",
       "4                             2                        2             2   \n",
       "5                             2                        2             2   \n",
       "6                             1                        1             1   \n",
       "7                             0                        1             1   \n",
       "8                             0                        1             1   \n",
       "9                             2                        2             2   \n",
       "\n",
       "   STATIC/RISK  REINTEGRATION POTENTIAL  MOTIVATION  \\\n",
       "0            2                        2           1   \n",
       "1            2                        2           1   \n",
       "2            2                        2           1   \n",
       "3            2                        2           1   \n",
       "4            2                        2           1   \n",
       "5            2                        2           1   \n",
       "6            0                        0           0   \n",
       "7            0                        0           0   \n",
       "8            0                        0           0   \n",
       "9            2                        2           1   \n",
       "\n",
       "   offence_AGGRAVATED ASSAULT  offence_ARMED ROBBERY  \\\n",
       "0                           0                      0   \n",
       "1                           0                      0   \n",
       "2                           0                      0   \n",
       "3                           0                      0   \n",
       "4                           0                      0   \n",
       "5                           0                      0   \n",
       "6                           0                      0   \n",
       "7                           0                      0   \n",
       "8                           0                      0   \n",
       "9                           0                      0   \n",
       "\n",
       "   offence_ARSON - DAMAGE TO PROPERTY  offence_ASSAULT - THREATS OF VIOLENCE  \\\n",
       "0                                   0                                      0   \n",
       "1                                   0                                      0   \n",
       "2                                   0                                      0   \n",
       "3                                   0                                      0   \n",
       "4                                   0                                      0   \n",
       "5                                   0                                      0   \n",
       "6                                   0                                      0   \n",
       "7                                   0                                      0   \n",
       "8                                   0                                      0   \n",
       "9                                   0                                      0   \n",
       "\n",
       "   ...  SENLENGTH_40-60Q  SENLENGTH_60-80Q  SENLENGTH_80-100Q  \\\n",
       "0  ...                 0                 0                  0   \n",
       "1  ...                 0                 0                  0   \n",
       "2  ...                 0                 0                  0   \n",
       "3  ...                 0                 0                  0   \n",
       "4  ...                 0                 0                  0   \n",
       "5  ...                 0                 0                  0   \n",
       "6  ...                 0                 0                  0   \n",
       "7  ...                 0                 0                  0   \n",
       "8  ...                 0                 0                  0   \n",
       "9  ...                 0                 0                  0   \n",
       "\n",
       "   CUSTODY_Community  CUSTODY_In Custody  SUPERVISION_DAY PAROLE  \\\n",
       "0                  0                   1                       0   \n",
       "1                  0                   1                       0   \n",
       "2                  0                   1                       0   \n",
       "3                  0                   1                       0   \n",
       "4                  0                   1                       0   \n",
       "5                  0                   1                       0   \n",
       "6                  0                   1                       0   \n",
       "7                  1                   0                       1   \n",
       "8                  1                   0                       0   \n",
       "9                  0                   1                       0   \n",
       "\n",
       "   SUPERVISION_FULL PAROLE  SUPERVISION_In Custody  \\\n",
       "0                        0                       1   \n",
       "1                        0                       1   \n",
       "2                        0                       1   \n",
       "3                        0                       1   \n",
       "4                        0                       1   \n",
       "5                        0                       1   \n",
       "6                        0                       1   \n",
       "7                        0                       0   \n",
       "8                        0                       0   \n",
       "9                        0                       1   \n",
       "\n",
       "   SUPERVISION_LONG TERM SUPER  SUPERVISION_STAT RELEASE  \n",
       "0                            0                         0  \n",
       "1                            0                         0  \n",
       "2                            0                         0  \n",
       "3                            0                         0  \n",
       "4                            0                         0  \n",
       "5                            0                         0  \n",
       "6                            0                         0  \n",
       "7                            0                         0  \n",
       "8                            0                         1  \n",
       "9                            0                         0  \n",
       "\n",
       "[10 rows x 128 columns]"
      ]
     },
     "execution_count": 2,
     "metadata": {},
     "output_type": "execute_result"
    }
   ],
   "source": [
    "df = pd.read_csv('modelling_data.csv')\n",
    "df.head(10)"
   ]
  },
  {
   "cell_type": "markdown",
   "metadata": {},
   "source": [
    "Look at balance of our target variable. "
   ]
  },
  {
   "cell_type": "code",
   "execution_count": 3,
   "metadata": {},
   "outputs": [
    {
     "data": {
      "text/plain": [
       "1    57693\n",
       "2    47380\n",
       "0    36687\n",
       "Name: REINTEGRATION POTENTIAL, dtype: int64"
      ]
     },
     "execution_count": 3,
     "metadata": {},
     "output_type": "execute_result"
    }
   ],
   "source": [
    "df['REINTEGRATION POTENTIAL'].value_counts()"
   ]
  },
  {
   "cell_type": "markdown",
   "metadata": {},
   "source": [
    "Looks like we have a rough balance between the three reintegration potential scores. As a reminder, we've encoded our reintergation potential scores as follows ('high' is the best reintegration potential score, 'low' is the worst):\n",
    "\n",
    "* **HIGH:** 0\n",
    "* **MEDIUM:** 1\n",
    "* **LOW:** 2\n",
    "\n",
    "## Objectives\n",
    "\n",
    "The goals of this exploration are two-fold. First, we want to put together a model that has a good accuracy score for predicting the reintegration potential of offenders in this dataset. Second, we want to explore the whether there's a difference in the accuracy scores we get for a white offender test set vs. a test set composed of other races. \n",
    "\n",
    "In order to achieve this, we'll take the following steps:\n",
    "\n",
    "* Carve out the white offenders for most of our modelling - we will split this dataset into training, validation, and test sets.\n",
    "    * The remaining data, composed of non-white offenders, will be a secondary test set - our expectation is that if there's no racial bias in the dataset, our models should perform identically on our white and non-white test sets. \n",
    "* We will fit our data to the following models:\n",
    "    * **Multinomial Logistic Regression - OvR:** Baseline model.\n",
    "    * **K-Nearest Neighbors:** Helpful since it's a nonparametric model. Since we have a lot of data and don't want to worry too much about choosing just the right features this will be a good addition to the exploration.\n",
    "    * **Random Forest:** Usually more accurate than decision trees and doesn't tend to overfit. \n",
    "    * **XGBoost:** Comparatively faster than other ensemble classifiers.\n",
    "* Test the accuracy score and ROC AUC for all classifiers to determine which is most promising.\n",
    "* Tune hyperparameters with GridSearchCV for most successful model. \n",
    "* Retrain most successful model on a combination of training and validation data, and then predict on both of our test sets (white and non-white offenders). \n",
    "* Finally, we will examine feature importance and see what conclusions can be drawn. \n",
    "\n",
    "Let's begin by creating two datasets: one for white and one for non-white offenders."
   ]
  },
  {
   "cell_type": "code",
   "execution_count": 4,
   "metadata": {},
   "outputs": [],
   "source": [
    "#Create a dataset consisting of only white offenders\n",
    "\n",
    "w_offenders = df[df['RACE_White'] == 1].reset_index(drop=True)\n",
    "\n",
    "#Create a dataset consisting of all non-white offenders\n",
    "\n",
    "nw_offenders = df[df['RACE_White'] == 0].reset_index(drop=True)"
   ]
  },
  {
   "cell_type": "markdown",
   "metadata": {},
   "source": [
    "Let's now separate our non-white dataset into our features and target. We will use this for a second round of testing later on in the exploration. We will also scale this data."
   ]
  },
  {
   "cell_type": "code",
   "execution_count": 5,
   "metadata": {},
   "outputs": [],
   "source": [
    "#Get X and y datasets\n",
    "X_testtwo = nw_offenders.drop('REINTEGRATION POTENTIAL', axis=1)\n",
    "y_testtwo = nw_offenders['REINTEGRATION POTENTIAL'].values\n",
    "\n",
    "#Scale features\n",
    "X_testtwo = StandardScaler().fit_transform(X_testtwo)"
   ]
  },
  {
   "cell_type": "markdown",
   "metadata": {},
   "source": [
    "We'll do the same thing for our white offender dataset. First, let's confirm that we still have rough class balance in our target variable."
   ]
  },
  {
   "cell_type": "code",
   "execution_count": 6,
   "metadata": {
    "scrolled": true
   },
   "outputs": [
    {
     "data": {
      "text/plain": [
       "1    35464\n",
       "2    26642\n",
       "0    25657\n",
       "Name: REINTEGRATION POTENTIAL, dtype: int64"
      ]
     },
     "execution_count": 6,
     "metadata": {},
     "output_type": "execute_result"
    }
   ],
   "source": [
    "w_offenders['REINTEGRATION POTENTIAL'].value_counts()"
   ]
  },
  {
   "cell_type": "markdown",
   "metadata": {},
   "source": [
    "Now we can separate our white offender dataset into features and targets, scale our features, then split the data into training and test sets, and further split the training set into training and validation sets."
   ]
  },
  {
   "cell_type": "code",
   "execution_count": 7,
   "metadata": {},
   "outputs": [],
   "source": [
    "#Split the white offender dataset into features and a target\n",
    "X = w_offenders.drop('REINTEGRATION POTENTIAL', axis=1)\n",
    "y = w_offenders['REINTEGRATION POTENTIAL'].values\n",
    "\n",
    "#Scale features\n",
    "X = StandardScaler().fit_transform(X)\n",
    "\n",
    "#Get training and test sets \n",
    "X_train, X_test, y_train, y_test = train_test_split(X, y, test_size = 0.2, random_state = 42)\n",
    "\n",
    "#Split the training set into a training and validation set\n",
    "X_train, X_val, y_train, y_val = train_test_split(X_train, y_train, test_size = 0.25, random_state = 42)"
   ]
  },
  {
   "cell_type": "markdown",
   "metadata": {},
   "source": [
    "Let's now instantiate all of the models we mentioned above, fit them to our training set, and predict our validation set. As a reminder, those models are:\n",
    "\n",
    "* **Multinomial Logistic Regression - OvR** \n",
    "* **K-Nearest Neighbors** \n",
    "* **Random Forest**  \n",
    "* **XGBoost**\n",
    "\n",
    "And we will be determining the _accuracy score_ as well as the _ROC AUC score_ of each model. "
   ]
  },
  {
   "cell_type": "code",
   "execution_count": 8,
   "metadata": {},
   "outputs": [],
   "source": [
    "#Instantiate all models\n",
    "\n",
    "mlr = LogisticRegression(multi_class = 'ovr',max_iter = 400, random_state=42)\n",
    "knn = KNeighborsClassifier()\n",
    "rf = RandomForestClassifier(random_state=42)\n",
    "xgb = XGBClassifier(objective='multi:softmax',seed=42)\n"
   ]
  },
  {
   "cell_type": "code",
   "execution_count": 9,
   "metadata": {},
   "outputs": [],
   "source": [
    "#Function to get prediction probability and predicted label for a classifier \n",
    "def fit_model(classifier, X_train, y_train, X_val):\n",
    "    classifier.fit(X_train, y_train)\n",
    "    return classifier.predict(X_val), classifier.predict_proba(X_val)\n",
    "\n",
    "#Fit/ predict all models \n",
    "lr_pred, lr_prob = fit_model(mlr, X_train, y_train, X_val)\n",
    "knn_pred, knn_prob = fit_model(knn, X_train, y_train, X_val)\n",
    "rf_pred, rf_prob = fit_model(rf, X_train, y_train, X_val)\n",
    "xgb_pred, xgb_prob = fit_model(xgb, X_train, y_train, X_val)"
   ]
  },
  {
   "cell_type": "markdown",
   "metadata": {},
   "source": [
    "Now that we have our predictions for each model, let's compare them to our validation targets and calculate accuracy scores:"
   ]
  },
  {
   "cell_type": "code",
   "execution_count": 10,
   "metadata": {},
   "outputs": [
    {
     "name": "stdout",
     "output_type": "stream",
     "text": [
      "Accuracy score for Multinomial Logistic Regression: 0.763\n",
      "Accuracy score for K-Nearest Neighbors: 0.718\n",
      "Accuracy score for Random Forest: 0.821\n",
      "Accuracy score for XGBoost: 0.801\n"
     ]
    }
   ],
   "source": [
    "pred_dict = {'Multinomial Logistic Regression':lr_pred, \n",
    "             'K-Nearest Neighbors':knn_pred, \n",
    "             'Random Forest':rf_pred, \n",
    "             'XGBoost':xgb_pred}\n",
    "\n",
    "for k,v in pred_dict.items():\n",
    "    print('Accuracy score for ' + k + \": \" + str(round(accuracy_score(y_val, v),3)))"
   ]
  },
  {
   "cell_type": "markdown",
   "metadata": {},
   "source": [
    "Looks like our Random Forest and XGBoost models are the most accurate. But let's get a better sense of the performance of our models by generating their classification reports and corresponding confusion matrices."
   ]
  },
  {
   "cell_type": "code",
   "execution_count": 11,
   "metadata": {},
   "outputs": [
    {
     "name": "stdout",
     "output_type": "stream",
     "text": [
      "              precision    recall  f1-score   support\n",
      "\n",
      "           0       0.81      0.78      0.80      5175\n",
      "           1       0.71      0.70      0.70      7019\n",
      "           2       0.79      0.83      0.81      5359\n",
      "\n",
      "    accuracy                           0.76     17553\n",
      "   macro avg       0.77      0.77      0.77     17553\n",
      "weighted avg       0.76      0.76      0.76     17553\n",
      "\n"
     ]
    },
    {
     "name": "stderr",
     "output_type": "stream",
     "text": [
      "C:\\Users\\Anastasia\\anaconda3\\envs\\venv\\lib\\site-packages\\sklearn\\utils\\validation.py:67: FutureWarning: Pass labels=[0, 1, 2] as keyword args. From version 0.25 passing these as positional arguments will result in an error\n",
      "  warnings.warn(\"Pass {} as keyword args. From version 0.25 \"\n"
     ]
    },
    {
     "data": {
      "image/png": "[encoded data removed]",
      "text/plain": [
       "<Figure size 432x288 with 2 Axes>"
      ]
     },
     "metadata": {
      "needs_background": "light"
     },
     "output_type": "display_data"
    },
    {
     "name": "stdout",
     "output_type": "stream",
     "text": [
      "              precision    recall  f1-score   support\n",
      "\n",
      "           0       0.74      0.78      0.76      5175\n",
      "           1       0.66      0.67      0.67      7019\n",
      "           2       0.77      0.72      0.74      5359\n",
      "\n",
      "    accuracy                           0.72     17553\n",
      "   macro avg       0.73      0.72      0.72     17553\n",
      "weighted avg       0.72      0.72      0.72     17553\n",
      "\n"
     ]
    },
    {
     "data": {
      "image/png": "[encoded data removed]",
      "text/plain": [
       "<Figure size 432x288 with 2 Axes>"
      ]
     },
     "metadata": {
      "needs_background": "light"
     },
     "output_type": "display_data"
    },
    {
     "name": "stdout",
     "output_type": "stream",
     "text": [
      "              precision    recall  f1-score   support\n",
      "\n",
      "           0       0.86      0.82      0.84      5175\n",
      "           1       0.77      0.80      0.78      7019\n",
      "           2       0.86      0.85      0.86      5359\n",
      "\n",
      "    accuracy                           0.82     17553\n",
      "   macro avg       0.83      0.82      0.83     17553\n",
      "weighted avg       0.82      0.82      0.82     17553\n",
      "\n"
     ]
    },
    {
     "data": {
      "image/png": "[encoded data removed]",
      "text/plain": [
       "<Figure size 432x288 with 2 Axes>"
      ]
     },
     "metadata": {
      "needs_background": "light"
     },
     "output_type": "display_data"
    },
    {
     "name": "stdout",
     "output_type": "stream",
     "text": [
      "              precision    recall  f1-score   support\n",
      "\n",
      "           0       0.85      0.81      0.83      5175\n",
      "           1       0.75      0.76      0.75      7019\n",
      "           2       0.83      0.85      0.84      5359\n",
      "\n",
      "    accuracy                           0.80     17553\n",
      "   macro avg       0.81      0.81      0.81     17553\n",
      "weighted avg       0.80      0.80      0.80     17553\n",
      "\n"
     ]
    },
    {
     "data": {
      "image/png": "[encoded data removed]",
      "text/plain": [
       "<Figure size 432x288 with 2 Axes>"
      ]
     },
     "metadata": {
      "needs_background": "light"
     },
     "output_type": "display_data"
    }
   ],
   "source": [
    "#Define a function for generating classification reports/ confusion matrices\n",
    "def gen_confusion(classifier,y_val, y_pred):\n",
    "    labels = [0,1,2] \n",
    "    print(classification_report(y_val, y_pred, labels)) #classification report from sklearn\n",
    "    cnf_matrix = confusion_matrix(y_val, y_pred, labels=labels)\n",
    "    plt.imshow(cnf_matrix, cmap=plt.cm.Blues) #plot confusion matrix grid\n",
    "    threshold = cnf_matrix.max() / 2 #threshold to define text color\n",
    "    for i in range(cnf_matrix.shape[0]): #print text in grid\n",
    "        for j in range(cnf_matrix.shape[1]): \n",
    "            plt.text(j, i, cnf_matrix[i,j], color=\"w\" if cnf_matrix[i,j] > threshold else 'black')\n",
    "    tick_marks = np.arange(len(labels)) #define labeling spacing based on number of classes\n",
    "    plt.xticks(tick_marks, labels=['High','Medium','Low'])\n",
    "    plt.yticks(tick_marks, labels=['High','Medium','Low'])\n",
    "    plt.title('Confusion Matrix for ' + str(classifier))\n",
    "    plt.ylabel('True label')\n",
    "    plt.xlabel('Predicted label')\n",
    "    plt.colorbar()\n",
    "    plt.tight_layout()\n",
    "    plt.show()\n",
    "\n",
    "for k,v in pred_dict.items():\n",
    "    gen_confusion(k,y_val, v)"
   ]
  },
  {
   "cell_type": "markdown",
   "metadata": {},
   "source": [
    "It's interesting to see the classification reports and the confusion matrix because we can get a sense of where the models err. A few observations:\n",
    "\n",
    "* Multinomial Logistic Regression has a tendency to 'classify down' the reintegration potential scores - i.e. a good portion of 'high' reintegration potential offenders were predicted to be 'medium', and similarly for 'medium' individuals predicted as 'low'. Thus, this model has a tendency to underestimate the likelihood that an offender can successfully re-enter the community. \n",
    "* XGBoost was slightly better than Random Forest at handling extreme mistakes ('low' as 'high' or vice versa) but had pretty similar performance overall. \n",
    "\n",
    "ROC AUC"
   ]
  },
  {
   "cell_type": "code",
   "execution_count": 12,
   "metadata": {},
   "outputs": [
    {
     "name": "stdout",
     "output_type": "stream",
     "text": [
      "ROC AUC score for Multinomial Logistic Regression: 0.903\n",
      "ROC AUC score for K-Nearest Neighbors: 0.873\n",
      "ROC AUC score for Random Forest: 0.941\n",
      "ROC AUC score for XGBoost: 0.932\n"
     ]
    }
   ],
   "source": [
    "def get_auc(classifier,y_val, y_prob):\n",
    "    roc = roc_auc_score(y_val, y_prob, multi_class=\"ovr\", average=\"macro\")\n",
    "    print('ROC AUC score for ' + classifier + \": \" + str(round(roc,3)))\n",
    "\n",
    "prob_dict = {'Multinomial Logistic Regression':lr_prob, \n",
    "             'K-Nearest Neighbors':knn_prob, \n",
    "             'Random Forest':rf_prob, \n",
    "             'XGBoost':xgb_prob}\n",
    "\n",
    "for k,v in prob_dict.items():\n",
    "    get_auc(k,y_val,v)"
   ]
  },
  {
   "cell_type": "markdown",
   "metadata": {},
   "source": [
    "COmmentary"
   ]
  },
  {
   "cell_type": "code",
   "execution_count": 13,
   "metadata": {},
   "outputs": [],
   "source": [
    "n_estimators = [10,100, 300, 500, 800, 1200]\n",
    "max_depth = [5, 8, 15, 25, 30, 60, 100]\n",
    "min_samples_split = [2, 5, 10, 15, 100]\n",
    "min_samples_leaf = [1, 2, 3, 4, 5] "
   ]
  },
  {
   "cell_type": "code",
   "execution_count": 14,
   "metadata": {},
   "outputs": [
    {
     "data": {
      "image/png": "[encoded data removed]",
      "text/plain": [
       "<Figure size 432x288 with 1 Axes>"
      ]
     },
     "metadata": {
      "needs_background": "light"
     },
     "output_type": "display_data"
    }
   ],
   "source": [
    "train_score, val_score = validation_curve(\n",
    "                                rf,\n",
    "                                X = X_train, y = y_train, \n",
    "                                param_name = 'n_estimators', \n",
    "                                param_range = n_estimators, scoring='accuracy', cv = 3)\n",
    "\n",
    "train_scores_mean = np.mean(train_score, axis=1)\n",
    "train_scores_std = np.std(train_score, axis=1)\n",
    "test_scores_mean = np.mean(val_score, axis=1)\n",
    "test_scores_std = np.std(val_score, axis=1)\n",
    "\n",
    "plt.title(\"N_estimators Validation Curve \")\n",
    "plt.xlabel('n_estimators')\n",
    "plt.ylabel('score')\n",
    "plt.ylim(0.7, 1.0)\n",
    "lw = 2\n",
    "plt.plot(n_estimators, train_scores_mean, label=\"Training score\",\n",
    "             color=\"darkorange\", lw=lw)\n",
    "plt.fill_between(n_estimators, train_scores_mean - train_scores_std,\n",
    "                 train_scores_mean + train_scores_std, alpha=0.2,\n",
    "                 color=\"darkorange\", lw=lw)\n",
    "plt.plot(n_estimators, test_scores_mean, label=\"Cross-validation score\",\n",
    "             color=\"navy\", lw=lw)\n",
    "plt.fill_between(n_estimators, test_scores_mean - test_scores_std,\n",
    "                 test_scores_mean + test_scores_std, alpha=0.2,\n",
    "                 color=\"navy\", lw=lw)\n",
    "plt.legend(loc=\"best\")\n",
    "plt.show()"
   ]
  },
  {
   "cell_type": "code",
   "execution_count": 15,
   "metadata": {},
   "outputs": [
    {
     "data": {
      "image/png": "[encoded data removed]",
      "text/plain": [
       "<Figure size 432x288 with 1 Axes>"
      ]
     },
     "metadata": {
      "needs_background": "light"
     },
     "output_type": "display_data"
    }
   ],
   "source": [
    "train_score, val_score = validation_curve(\n",
    "                                rf,\n",
    "                                X = X_train, y = y_train, \n",
    "                                param_name = 'max_depth', \n",
    "                                param_range = max_depth, scoring='accuracy', cv = 3)\n",
    "\n",
    "train_scores_mean = np.mean(train_score, axis=1)\n",
    "train_scores_std = np.std(train_score, axis=1)\n",
    "test_scores_mean = np.mean(val_score, axis=1)\n",
    "test_scores_std = np.std(val_score, axis=1)\n",
    "\n",
    "plt.title(\"Max_depth Validation Curve \")\n",
    "plt.xlabel('max_depth')\n",
    "plt.ylabel('score')\n",
    "plt.ylim(0.7, 1.0)\n",
    "lw = 2\n",
    "plt.plot(max_depth, train_scores_mean, label=\"Training score\",\n",
    "             color=\"darkorange\", lw=lw)\n",
    "plt.fill_between(max_depth, train_scores_mean - train_scores_std,\n",
    "                 train_scores_mean + train_scores_std, alpha=0.2,\n",
    "                 color=\"darkorange\", lw=lw)\n",
    "plt.plot(max_depth, test_scores_mean, label=\"Cross-validation score\",\n",
    "             color=\"navy\", lw=lw)\n",
    "plt.fill_between(max_depth, test_scores_mean - test_scores_std,\n",
    "                 test_scores_mean + test_scores_std, alpha=0.2,\n",
    "                 color=\"navy\", lw=lw)\n",
    "plt.legend(loc=\"best\")\n",
    "plt.show()"
   ]
  },
  {
   "cell_type": "code",
   "execution_count": 16,
   "metadata": {},
   "outputs": [
    {
     "data": {
      "image/png": "[encoded data removed]",
      "text/plain": [
       "<Figure size 432x288 with 1 Axes>"
      ]
     },
     "metadata": {
      "needs_background": "light"
     },
     "output_type": "display_data"
    }
   ],
   "source": [
    "train_score, val_score = validation_curve(\n",
    "                                rf,\n",
    "                                X = X_train, y = y_train, \n",
    "                                param_name = 'min_samples_split', \n",
    "                                param_range = min_samples_split, scoring='accuracy', cv = 3)\n",
    "\n",
    "train_scores_mean = np.mean(train_score, axis=1)\n",
    "train_scores_std = np.std(train_score, axis=1)\n",
    "test_scores_mean = np.mean(val_score, axis=1)\n",
    "test_scores_std = np.std(val_score, axis=1)\n",
    "\n",
    "plt.title(\"Min_samples_split Validation Curve\")\n",
    "plt.xlabel('min_samples_split')\n",
    "plt.ylabel('score')\n",
    "plt.ylim(0.7, 1.0)\n",
    "lw = 2\n",
    "plt.plot(min_samples_split, train_scores_mean, label=\"Training score\",\n",
    "             color=\"darkorange\", lw=lw)\n",
    "plt.fill_between(min_samples_split, train_scores_mean - train_scores_std,\n",
    "                 train_scores_mean + train_scores_std, alpha=0.2,\n",
    "                 color=\"darkorange\", lw=lw)\n",
    "plt.plot(min_samples_split, test_scores_mean, label=\"Cross-validation score\",\n",
    "             color=\"navy\", lw=lw)\n",
    "plt.fill_between(min_samples_split, test_scores_mean - test_scores_std,\n",
    "                 test_scores_mean + test_scores_std, alpha=0.2,\n",
    "                 color=\"navy\", lw=lw)\n",
    "plt.legend(loc=\"best\")\n",
    "plt.show()"
   ]
  },
  {
   "cell_type": "code",
   "execution_count": 17,
   "metadata": {},
   "outputs": [
    {
     "data": {
      "image/png": "[encoded data removed]",
      "text/plain": [
       "<Figure size 432x288 with 1 Axes>"
      ]
     },
     "metadata": {
      "needs_background": "light"
     },
     "output_type": "display_data"
    }
   ],
   "source": [
    "train_score, val_score = validation_curve(\n",
    "                                rf,\n",
    "                                X = X_train, y = y_train, \n",
    "                                param_name = 'min_samples_leaf', \n",
    "                                param_range = min_samples_leaf, scoring='accuracy', cv = 3)\n",
    "\n",
    "train_scores_mean = np.mean(train_score, axis=1)\n",
    "train_scores_std = np.std(train_score, axis=1)\n",
    "test_scores_mean = np.mean(val_score, axis=1)\n",
    "test_scores_std = np.std(val_score, axis=1)\n",
    "\n",
    "plt.title(\"Min_samples_leaf Validation Curve\")\n",
    "plt.xlabel('min_samples_leaf')\n",
    "plt.ylabel('score')\n",
    "plt.ylim(0.7, 1.0)\n",
    "lw = 2\n",
    "plt.plot(min_samples_leaf, train_scores_mean, label=\"Training score\",\n",
    "             color=\"darkorange\", lw=lw)\n",
    "plt.fill_between(min_samples_leaf, train_scores_mean - train_scores_std,\n",
    "                 train_scores_mean + train_scores_std, alpha=0.2,\n",
    "                 color=\"darkorange\", lw=lw)\n",
    "plt.plot(min_samples_leaf, test_scores_mean, label=\"Cross-validation score\",\n",
    "             color=\"navy\", lw=lw)\n",
    "plt.fill_between(min_samples_leaf, test_scores_mean - test_scores_std,\n",
    "                 test_scores_mean + test_scores_std, alpha=0.2,\n",
    "                 color=\"navy\", lw=lw)\n",
    "plt.legend(loc=\"best\")\n",
    "plt.show()"
   ]
  },
  {
   "cell_type": "markdown",
   "metadata": {},
   "source": [
    "Feature ranges:\n",
    "- n_estimators: 80 - 400\n",
    "- max_depth: 20-60\n",
    "- min_samples_split: 0-20\n",
    "- min_samples_leaf: 0-4"
   ]
  },
  {
   "cell_type": "code",
   "execution_count": null,
   "metadata": {},
   "outputs": [],
   "source": [
    "# Outline the hyperparameter values we want to consider\n",
    "\n",
    "n_estimators = [80,104,128,152,276,200]\n",
    "max_depth = np.linspace(20, 60, 10, endpoint=True)\n",
    "np.append(max_depth, None)\n",
    "min_samples_split = [2,4,6,8,10]\n",
    "min_samples_leaf = [1,2,3,4,5]\n",
    "\n",
    "# Combine into a dictionary\n",
    "\n",
    "parameters = dict(n_estimators = n_estimators, max_depth = max_depth,  \n",
    "              min_samples_split = min_samples_split, \n",
    "             min_samples_leaf = min_samples_leaf)\n",
    "\n",
    "# Instantiate GridSearch\n",
    "gs_rf = GridSearchCV(rf, parameters, cv = 3, verbose = 1, \n",
    "                      n_jobs = -1, scoring='accuracy')\n",
    "\n",
    "best_gs = gs_rf.fit(X_train, y_train)\n",
    "\n",
    "# Get best parameters and best score\n",
    "\n",
    "print(best_gs.best_score_)\n",
    "print(best_gs.best_params_)"
   ]
  },
  {
   "cell_type": "code",
   "execution_count": 27,
   "metadata": {},
   "outputs": [
    {
     "name": "stdout",
     "output_type": "stream",
     "text": [
      "Accuracy score for GridSearch RF: 0.822\n"
     ]
    }
   ],
   "source": [
    "grf_pred, grf_prob = fit_model(RandomForestClassifier(n_estimators = 276, max_depth = 33.333333333333336, min_samples_split = 2, min_samples_leaf = 1, random_state=42), X_train, y_train, X_val)\n",
    "print('Accuracy score for GridSearch RF: ' + str(round(accuracy_score(y_val, grf_pred),3)))\n"
   ]
  },
  {
   "cell_type": "code",
   "execution_count": 30,
   "metadata": {},
   "outputs": [],
   "source": [
    "X_train_final = np.concatenate((X_train, X_val), axis=0)\n",
    "y_train_final = np.concatenate((y_train, y_val), axis=0)"
   ]
  },
  {
   "cell_type": "code",
   "execution_count": 31,
   "metadata": {},
   "outputs": [
    {
     "name": "stdout",
     "output_type": "stream",
     "text": [
      "Accuracy score for white offender test set: 0.826\n",
      "Accuracy score for non-white offender test set: 0.775\n"
     ]
    }
   ],
   "source": [
    "best_rf = RandomForestClassifier(n_estimators = 276, max_depth = 33.333333333333336, min_samples_split = 2, min_samples_leaf = 1, random_state=42)\n",
    "best_rf.fit(X_train_final, y_train_final)\n",
    "\n",
    "final_pred_w = best_rf.predict(X_test)\n",
    "final_pred_nw = best_rf.predict(X_testtwo)\n",
    "\n",
    "print('Accuracy score for white offender test set: ' + str(round(accuracy_score(y_test, final_pred_w),3)))\n",
    "print('Accuracy score for non-white offender test set: ' + str(round(accuracy_score(y_testtwo, final_pred_nw),3)))"
   ]
  },
  {
   "cell_type": "markdown",
   "metadata": {},
   "source": [
    "Option:\n",
    "-Ordinal regression"
   ]
  },
  {
   "cell_type": "code",
   "execution_count": null,
   "metadata": {},
   "outputs": [],
   "source": []
  }
 ],
 "metadata": {
  "kernelspec": {
   "display_name": "Python 3",
   "language": "python",
   "name": "python3"
  },
  "language_info": {
   "codemirror_mode": {
    "name": "ipython",
    "version": 3
   },
   "file_extension": ".py",
   "mimetype": "text/x-python",
   "name": "python",
   "nbconvert_exporter": "python",
   "pygments_lexer": "ipython3",
   "version": "3.8.5"
  }
 },
 "nbformat": 4,
 "nbformat_minor": 4
}
